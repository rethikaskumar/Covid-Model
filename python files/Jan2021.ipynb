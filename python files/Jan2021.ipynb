{
 "cells": [
  {
   "cell_type": "code",
   "execution_count": 1,
   "id": "1ec90a17",
   "metadata": {},
   "outputs": [],
   "source": [
    "import io"
   ]
  },
  {
   "cell_type": "code",
   "execution_count": 2,
   "id": "6aa2b45b",
   "metadata": {},
   "outputs": [],
   "source": [
    "import requests"
   ]
  },
  {
   "cell_type": "code",
   "execution_count": 3,
   "id": "b0fc3724",
   "metadata": {},
   "outputs": [],
   "source": [
    "import re"
   ]
  },
  {
   "cell_type": "code",
   "execution_count": 4,
   "id": "2b250d22",
   "metadata": {},
   "outputs": [],
   "source": [
    "import pandas as pd"
   ]
  },
  {
   "cell_type": "code",
   "execution_count": 5,
   "id": "16117cf1",
   "metadata": {},
   "outputs": [],
   "source": [
    "from PyPDF2 import PdfReader"
   ]
  },
  {
   "cell_type": "code",
   "execution_count": 12,
   "id": "d4cbdb8e",
   "metadata": {},
   "outputs": [],
   "source": [
    "import urllib"
   ]
  },
  {
   "cell_type": "code",
   "execution_count": 34,
   "id": "ddd80df2",
   "metadata": {},
   "outputs": [],
   "source": [
    "import requests\n",
    "from bs4 import BeautifulSoup\n",
    " \n",
    " \n",
    "url = 'https://stopcorona.tn.gov.in/archive/'\n",
    "reqs = requests.get(url)\n",
    "soup = BeautifulSoup(reqs.text, 'html.parser')\n",
    " \n",
    "urls = []\n",
    "for link in soup.find_all('a'):\n",
    "    urls.append(link.get('href'))"
   ]
  },
  {
   "cell_type": "code",
   "execution_count": 33,
   "id": "1aba13cb",
   "metadata": {},
   "outputs": [
    {
     "ename": "AttributeError",
     "evalue": "'NoneType' object has no attribute 'index'",
     "output_type": "error",
     "traceback": [
      "\u001b[1;31m---------------------------------------------------------------------------\u001b[0m",
      "\u001b[1;31mAttributeError\u001b[0m                            Traceback (most recent call last)",
      "Cell \u001b[1;32mIn[33], line 1\u001b[0m\n\u001b[1;32m----> 1\u001b[0m \u001b[43murls\u001b[49m\u001b[38;5;241;43m.\u001b[39;49m\u001b[43mindex\u001b[49m(\u001b[38;5;124m'\u001b[39m\u001b[38;5;124mhttp://stopcorona.tn.gov.in/wp-content/uploads/2020/03/Media-Bulletin-31-12-21-COVID-19.pdf\u001b[39m\u001b[38;5;124m'\u001b[39m)\n",
      "\u001b[1;31mAttributeError\u001b[0m: 'NoneType' object has no attribute 'index'"
     ]
    }
   ],
   "source": [
    "urls.index('http://stopcorona.tn.gov.in/wp-content/uploads/2020/03/Media-Bulletin-31-12-21-COVID-19.pdf')"
   ]
  },
  {
   "cell_type": "code",
   "execution_count": 36,
   "id": "1256e24d",
   "metadata": {},
   "outputs": [],
   "source": [
    "urls=urls[314:679]"
   ]
  },
  {
   "cell_type": "code",
   "execution_count": 39,
   "id": "067d70d0",
   "metadata": {},
   "outputs": [],
   "source": [
    "urls.reverse()"
   ]
  },
  {
   "cell_type": "code",
   "execution_count": 40,
   "id": "f84a2205",
   "metadata": {},
   "outputs": [
    {
     "data": {
      "text/plain": [
       "['https://stopcorona.tn.gov.in/wp-content/uploads/2020/03/Media-Bulletin-01-01-21-COVID-19-6-PM.pdf\"',\n",
       " 'https://stopcorona.tn.gov.in/wp-content/uploads/2020/03/Media-Bulletin-02-01-21-COVID-19-6-PM-1.pdf\"',\n",
       " 'https://stopcorona.tn.gov.in/wp-content/uploads/2020/03/Media-Bulletin-03-01-21-COVID-19-6-PM.pdf\"',\n",
       " 'https://stopcorona.tn.gov.in/wp-content/uploads/2021/01/Media-Bulletin-04.01.2021-14-Pages-English-415-KB.pdf\"',\n",
       " 'https://stopcorona.tn.gov.in/wp-content/uploads/2021/01/Media-Bulletin-05.01.2021-14-Pages-English-415-KB.pdf\"',\n",
       " 'https://stopcorona.tn.gov.in/wp-content/uploads/2020/03/Media-Bulletin-06-01-21-COVID-19-6-PM.pdf\"',\n",
       " 'https://stopcorona.tn.gov.in/wp-content/uploads/2020/03/Media-Bulletin-07.01.2021-14-Pages-English-413-KB.pdf\"',\n",
       " 'https://stopcorona.tn.gov.in/wp-content/uploads/2021/01/Media-Bulletin-08-01-21-COVID-19-6-PM.pdf\"',\n",
       " 'https://stopcorona.tn.gov.in/wp-content/uploads/2021/01/Media-Bulletin-09.01.2020-15-Pages-English-428-KB.pdf\"',\n",
       " 'https://stopcorona.tn.gov.in/wp-content/uploads/2020/03/Media-Bulletin-10.01.2021-14-Pages-English-415-KB.pdf\"',\n",
       " 'https://stopcorona.tn.gov.in/wp-content/uploads/2020/03/Media-Bulletin-11-01-21-COVID-19-6-PM.pdf\"',\n",
       " 'https://stopcorona.tn.gov.in/wp-content/uploads/2020/03/Media-Bulletin-12.01.2021-15-Pages-English-419-KB.pdf\"',\n",
       " 'https://stopcorona.tn.gov.in/wp-content/uploads/2020/03/Media-Bulletin-13-01-21-COVID-19-6-PM.pdf\"',\n",
       " 'https://stopcorona.tn.gov.in/wp-content/uploads/2020/03/Media-Bulletin-14.01.2021-15-Pages-English-428-KB.pdf\"',\n",
       " 'https://stopcorona.tn.gov.in/wp-content/uploads/2020/03/Media-Bulletin-15.01.2021-15-Pages-English-596-KB.pdf\"\"',\n",
       " 'https://stopcorona.tn.gov.in/wp-content/uploads/2021/01/Media-Bulletin-16.01.2021-14-Pages-English-415-KB.pdf\"',\n",
       " 'https://stopcorona.tn.gov.in/wp-content/uploads/2020/03/Media-Bulletin-17-01-21-COVID-19-6-PM.pdf\"',\n",
       " 'https://stopcorona.tn.gov.in/wp-content/uploads/2020/03/Media-Bulletin-18-01-21-COVID-19-6-PM.pdf\"',\n",
       " 'https://stopcorona.tn.gov.in/wp-content/uploads/2020/03/Media-Bulletin-19-01-21-COVID-19-6-PM.pdf\"',\n",
       " 'https://stopcorona.tn.gov.in/wp-content/uploads/2021/01/Media-Bulletin-20.01.2020-15-Pages-English-428-KB.pdf',\n",
       " 'https://stopcorona.tn.gov.in/wp-content/uploads/2020/03/Media-Bulletin-21-01-21-COVID-19-6-PM.pdf',\n",
       " 'https://stopcorona.tn.gov.in/wp-content/uploads/2020/03/Media-Bulletin-22-01-21-COVID-19-6-PM.pdf',\n",
       " 'https://stopcorona.tn.gov.in/wp-content/uploads/2020/03/Media-Bulletin-23-01-21-COVID-19-6-PM.pdf',\n",
       " 'https://stopcorona.tn.gov.in/wp-content/uploads/2020/03/Media-Bulletin-24-01-21-COVID-19-6-PM.pdf',\n",
       " 'https://stopcorona.tn.gov.in/wp-content/uploads/2020/03/Media-Bulletin-25-01-21-COVID-19-6-PM.pdf',\n",
       " 'https://stopcorona.tn.gov.in/wp-content/uploads/2020/03/Media-Bulletin-26-01-21-COVID-19-6-PM.pdf',\n",
       " 'https://stopcorona.tn.gov.in/wp-content/uploads/2020/03/Media-Bulletin-27-01-21-COVID-19-6-PM.pdf',\n",
       " 'https://stopcorona.tn.gov.in/wp-content/uploads/2020/03/Media-Bulletin-28-01-21-COVID-19-6-PM.pdf',\n",
       " 'https://stopcorona.tn.gov.in/wp-content/uploads/2020/03/Media-Bulletin-29-01-21-COVID-19-6-PM.pdf',\n",
       " 'https://stopcorona.tn.gov.in/wp-content/uploads/2020/03/Media-Bulletin-30-01-21-COVID-19-6-PM.pdf',\n",
       " 'https://stopcorona.tn.gov.in/wp-content/uploads/2020/03/Media-Bulletin-31-01-21-COVID-19-6-PM.pdf',\n",
       " 'https://stopcorona.tn.gov.in/wp-content/uploads/2020/03/Media-Bulletin-01.02.2021-14-Pages-English-427-KB.pdf',\n",
       " 'https://stopcorona.tn.gov.in/wp-content/uploads/2020/03/Media-Bulletin-02.02.2021-15-Pages-English-432-KB.pdf',\n",
       " 'https://stopcorona.tn.gov.in/wp-content/uploads/2020/03/Media-Bulletin-03-02-21-COVID-19-6-PM.pdf',\n",
       " 'https://stopcorona.tn.gov.in/wp-content/uploads/2020/03/Media-Bulletin-04-02-21-COVID-19-6-PM.pdf',\n",
       " 'https://stopcorona.tn.gov.in/wp-content/uploads/2020/03/Media-Bulletin-05-02-21-COVID-19-6-PM.pdf',\n",
       " 'https://stopcorona.tn.gov.in/wp-content/uploads/2020/03/Media-Bulletin-06-02-21-COVID-19-6-PM.pdf',\n",
       " 'https://stopcorona.tn.gov.in/wp-content/uploads/2020/03/Media-Bulletin-07-02-21-COVID-19-6-PM.pdf',\n",
       " 'https://stopcorona.tn.gov.in/wp-content/uploads/2020/03/Media-Bulletin-08-02-21-COVID-19-6-PM.pdf',\n",
       " 'https://stopcorona.tn.gov.in/wp-content/uploads/2020/03/Media-Bulletin-09-02-21-COVID-19-6-PM.pdf',\n",
       " 'https://stopcorona.tn.gov.in/wp-content/uploads/2020/03/Media-Bulletin-10-02-21-COVID-19-6-PM.pdf',\n",
       " 'https://stopcorona.tn.gov.in/wp-content/uploads/2020/03/Media-Bulletin-11-02-21-COVID-19-6-PM.pdf',\n",
       " 'https://stopcorona.tn.gov.in/wp-content/uploads/2020/03/Media-Bulletin-12-02-21-COVID-19-6-PM.pdf',\n",
       " 'https://stopcorona.tn.gov.in/wp-content/uploads/2020/03/Media-Bulletin-13-02-21-COVID-19-6-PM.pdf',\n",
       " 'https://stopcorona.tn.gov.in/wp-content/uploads/2020/03/Media-Bulletin-14-02-21-COVID-19-6-PM.pdf',\n",
       " 'https://stopcorona.tn.gov.in/wp-content/uploads/2020/03/Media-Bulletin-15-02-21-COVID-19-6-PM.pdf',\n",
       " 'https://stopcorona.tn.gov.in/wp-content/uploads/2020/03/Media-Bulletin-16-02-21-COVID-19-6-PM.pdf',\n",
       " 'https://stopcorona.tn.gov.in/wp-content/uploads/2020/03/Media-Bulletin17.02.2021-14-Pages-English-455-KB.pdf',\n",
       " 'https://stopcorona.tn.gov.in/wp-content/uploads/2020/03/Media-Bulletin-18-02-21-COVID-19-6-PM.pdf',\n",
       " 'https://stopcorona.tn.gov.in/wp-content/uploads/2020/03/Media-Bulletin-19-02-21-COVID-19-6-PM.pdf',\n",
       " 'https://stopcorona.tn.gov.in/wp-content/uploads/2020/03/Media-Bulletin-20.02.2021-14-Pages-English-462-KB.pdf']"
      ]
     },
     "execution_count": 40,
     "metadata": {},
     "output_type": "execute_result"
    }
   ],
   "source": [
    "urls"
   ]
  },
  {
   "cell_type": "code",
   "execution_count": 48,
   "id": "5a5e5cbc",
   "metadata": {},
   "outputs": [
    {
     "name": "stdout",
     "output_type": "stream",
     "text": [
      "https://stopcorona.tn.gov.in/wp-content/uploads/2020/03/Media-Bulletin-01-01-21-COVID-19-6-PM.pdf\"\n"
     ]
    },
    {
     "data": {
      "text/plain": [
       "('Media-Bulletin-01-01-21-COVID-19-6-PM..pdf',\n",
       " <http.client.HTTPMessage at 0x1e9a8d02230>)"
      ]
     },
     "execution_count": 48,
     "metadata": {},
     "output_type": "execute_result"
    }
   ],
   "source": [
    "print(urls[0])\n",
    "opener = urllib.request.build_opener()\n",
    "opener.addheaders = [('User-agent', 'Mozilla/5.0 (X11; Windows; Windows x86_64) AppleWebKit/537.36 (KHTML, like Gecko) Chrome/103.0.5060.114 Safari/537.36')]\n",
    "urllib.request.install_opener(opener)\n",
    "urllib.request.urlretrieve(urls[0], str(urls[0].split('/')[-1][:-4]+\".pdf\"))"
   ]
  },
  {
   "cell_type": "code",
   "execution_count": 49,
   "id": "e34f3006",
   "metadata": {
    "scrolled": true
   },
   "outputs": [
    {
     "name": "stdout",
     "output_type": "stream",
     "text": [
      "https://stopcorona.tn.gov.in/wp-content/uploads/2020/03/Media-Bulletin-01-01-21-COVID-19-6-PM.pdf\n",
      "https://stopcorona.tn.gov.in/wp-content/uploads/2020/03/Media-Bulletin-02-01-21-COVID-19-6-PM-1.pdf\n",
      "https://stopcorona.tn.gov.in/wp-content/uploads/2020/03/Media-Bulletin-03-01-21-COVID-19-6-PM.pdf\n",
      "https://stopcorona.tn.gov.in/wp-content/uploads/2021/01/Media-Bulletin-04.01.2021-14-Pages-English-415-KB.pdf\n",
      "https://stopcorona.tn.gov.in/wp-content/uploads/2021/01/Media-Bulletin-05.01.2021-14-Pages-English-415-KB.pdf\n",
      "https://stopcorona.tn.gov.in/wp-content/uploads/2020/03/Media-Bulletin-06-01-21-COVID-19-6-PM.pdf\n",
      "https://stopcorona.tn.gov.in/wp-content/uploads/2020/03/Media-Bulletin-07.01.2021-14-Pages-English-413-KB.pdf\n",
      "https://stopcorona.tn.gov.in/wp-content/uploads/2021/01/Media-Bulletin-08-01-21-COVID-19-6-PM.pdf\n",
      "https://stopcorona.tn.gov.in/wp-content/uploads/2021/01/Media-Bulletin-09.01.2020-15-Pages-English-428-KB.pdf\n",
      "https://stopcorona.tn.gov.in/wp-content/uploads/2020/03/Media-Bulletin-10.01.2021-14-Pages-English-415-KB.pdf\n",
      "https://stopcorona.tn.gov.in/wp-content/uploads/2020/03/Media-Bulletin-11-01-21-COVID-19-6-PM.pdf\n",
      "https://stopcorona.tn.gov.in/wp-content/uploads/2020/03/Media-Bulletin-12.01.2021-15-Pages-English-419-KB.pdf\n",
      "https://stopcorona.tn.gov.in/wp-content/uploads/2020/03/Media-Bulletin-13-01-21-COVID-19-6-PM.pdf\n",
      "https://stopcorona.tn.gov.in/wp-content/uploads/2020/03/Media-Bulletin-14.01.2021-15-Pages-English-428-KB.pdf\n",
      "https://stopcorona.tn.gov.in/wp-content/uploads/2020/03/Media-Bulletin-15.01.2021-15-Pages-English-596-KB.pdf\n",
      "https://stopcorona.tn.gov.in/wp-content/uploads/2021/01/Media-Bulletin-16.01.2021-14-Pages-English-415-KB.pdf\n",
      "https://stopcorona.tn.gov.in/wp-content/uploads/2020/03/Media-Bulletin-17-01-21-COVID-19-6-PM.pdf\n",
      "https://stopcorona.tn.gov.in/wp-content/uploads/2020/03/Media-Bulletin-18-01-21-COVID-19-6-PM.pdf\n",
      "https://stopcorona.tn.gov.in/wp-content/uploads/2020/03/Media-Bulletin-19-01-21-COVID-19-6-PM.pdf\n",
      "https://stopcorona.tn.gov.in/wp-content/uploads/2021/01/Media-Bulletin-20.01.2020-15-Pages-English-428-KB.pdf\n",
      "https://stopcorona.tn.gov.in/wp-content/uploads/2020/03/Media-Bulletin-21-01-21-COVID-19-6-PM.pdf\n",
      "https://stopcorona.tn.gov.in/wp-content/uploads/2020/03/Media-Bulletin-22-01-21-COVID-19-6-PM.pdf\n",
      "https://stopcorona.tn.gov.in/wp-content/uploads/2020/03/Media-Bulletin-23-01-21-COVID-19-6-PM.pdf\n",
      "https://stopcorona.tn.gov.in/wp-content/uploads/2020/03/Media-Bulletin-24-01-21-COVID-19-6-PM.pdf\n",
      "https://stopcorona.tn.gov.in/wp-content/uploads/2020/03/Media-Bulletin-25-01-21-COVID-19-6-PM.pdf\n",
      "https://stopcorona.tn.gov.in/wp-content/uploads/2020/03/Media-Bulletin-26-01-21-COVID-19-6-PM.pdf\n",
      "https://stopcorona.tn.gov.in/wp-content/uploads/2020/03/Media-Bulletin-27-01-21-COVID-19-6-PM.pdf\n",
      "https://stopcorona.tn.gov.in/wp-content/uploads/2020/03/Media-Bulletin-28-01-21-COVID-19-6-PM.pdf\n",
      "https://stopcorona.tn.gov.in/wp-content/uploads/2020/03/Media-Bulletin-29-01-21-COVID-19-6-PM.pdf\n",
      "https://stopcorona.tn.gov.in/wp-content/uploads/2020/03/Media-Bulletin-30-01-21-COVID-19-6-PM.pdf\n",
      "https://stopcorona.tn.gov.in/wp-content/uploads/2020/03/Media-Bulletin-31-01-21-COVID-19-6-PM.pdf\n",
      "https://stopcorona.tn.gov.in/wp-content/uploads/2020/03/Media-Bulletin-01.02.2021-14-Pages-English-427-KB.pdf\n",
      "https://stopcorona.tn.gov.in/wp-content/uploads/2020/03/Media-Bulletin-02.02.2021-15-Pages-English-432-KB.pdf\n",
      "https://stopcorona.tn.gov.in/wp-content/uploads/2020/03/Media-Bulletin-03-02-21-COVID-19-6-PM.pdf\n",
      "https://stopcorona.tn.gov.in/wp-content/uploads/2020/03/Media-Bulletin-04-02-21-COVID-19-6-PM.pdf\n",
      "https://stopcorona.tn.gov.in/wp-content/uploads/2020/03/Media-Bulletin-05-02-21-COVID-19-6-PM.pdf\n",
      "https://stopcorona.tn.gov.in/wp-content/uploads/2020/03/Media-Bulletin-06-02-21-COVID-19-6-PM.pdf\n",
      "https://stopcorona.tn.gov.in/wp-content/uploads/2020/03/Media-Bulletin-07-02-21-COVID-19-6-PM.pdf\n",
      "https://stopcorona.tn.gov.in/wp-content/uploads/2020/03/Media-Bulletin-08-02-21-COVID-19-6-PM.pdf\n",
      "https://stopcorona.tn.gov.in/wp-content/uploads/2020/03/Media-Bulletin-09-02-21-COVID-19-6-PM.pdf\n",
      "https://stopcorona.tn.gov.in/wp-content/uploads/2020/03/Media-Bulletin-10-02-21-COVID-19-6-PM.pdf\n",
      "https://stopcorona.tn.gov.in/wp-content/uploads/2020/03/Media-Bulletin-11-02-21-COVID-19-6-PM.pdf\n",
      "https://stopcorona.tn.gov.in/wp-content/uploads/2020/03/Media-Bulletin-12-02-21-COVID-19-6-PM.pdf\n",
      "https://stopcorona.tn.gov.in/wp-content/uploads/2020/03/Media-Bulletin-13-02-21-COVID-19-6-PM.pdf\n",
      "https://stopcorona.tn.gov.in/wp-content/uploads/2020/03/Media-Bulletin-14-02-21-COVID-19-6-PM.pdf\n",
      "https://stopcorona.tn.gov.in/wp-content/uploads/2020/03/Media-Bulletin-15-02-21-COVID-19-6-PM.pdf\n",
      "https://stopcorona.tn.gov.in/wp-content/uploads/2020/03/Media-Bulletin-16-02-21-COVID-19-6-PM.pdf\n",
      "https://stopcorona.tn.gov.in/wp-content/uploads/2020/03/Media-Bulletin17.02.2021-14-Pages-English-455-KB.pdf\n",
      "https://stopcorona.tn.gov.in/wp-content/uploads/2020/03/Media-Bulletin-18-02-21-COVID-19-6-PM.pdf\n",
      "https://stopcorona.tn.gov.in/wp-content/uploads/2020/03/Media-Bulletin-19-02-21-COVID-19-6-PM.pdf\n",
      "https://stopcorona.tn.gov.in/wp-content/uploads/2020/03/Media-Bulletin-20.02.2021-14-Pages-English-462-KB.pdf\n"
     ]
    }
   ],
   "source": [
    "for i in urls:\n",
    "    i=i.strip('\"')\n",
    "    print(i)\n",
    "    opener = urllib.request.build_opener()\n",
    "    opener.addheaders = [('User-agent', 'Mozilla/5.0 (X11; Windows; Windows x86_64) AppleWebKit/537.36 (KHTML, like Gecko) Chrome/103.0.5060.114 Safari/537.36')]\n",
    "    urllib.request.install_opener(opener)\n",
    "    urllib.request.urlretrieve(i, str(i.split('/')[-1][:-4]+\".pdf\"))"
   ]
  },
  {
   "cell_type": "code",
   "execution_count": null,
   "id": "3f79521d",
   "metadata": {},
   "outputs": [],
   "source": []
  }
 ],
 "metadata": {
  "kernelspec": {
   "display_name": "Python 3 (ipykernel)",
   "language": "python",
   "name": "python3"
  },
  "language_info": {
   "codemirror_mode": {
    "name": "ipython",
    "version": 3
   },
   "file_extension": ".py",
   "mimetype": "text/x-python",
   "name": "python",
   "nbconvert_exporter": "python",
   "pygments_lexer": "ipython3",
   "version": "3.10.9"
  }
 },
 "nbformat": 4,
 "nbformat_minor": 5
}
