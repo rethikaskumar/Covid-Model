{
 "cells": [
  {
   "cell_type": "code",
   "execution_count": null,
   "id": "1752ba55",
   "metadata": {},
   "outputs": [],
   "source": [
    "import tensorflow_hub as hub\n",
    "import tensorflow_text as text"
   ]
  },
  {
   "cell_type": "code",
   "execution_count": null,
   "id": "07548cf7",
   "metadata": {},
   "outputs": [],
   "source": [
    "import tensorflow as tf"
   ]
  },
  {
   "cell_type": "code",
   "execution_count": null,
   "id": "35e2de6d",
   "metadata": {},
   "outputs": [],
   "source": [
    "import pandas as pd"
   ]
  },
  {
   "cell_type": "code",
   "execution_count": null,
   "id": "0b142e30",
   "metadata": {},
   "outputs": [],
   "source": [
    "import numpy as np"
   ]
  },
  {
   "cell_type": "code",
   "execution_count": null,
   "id": "316af3c5",
   "metadata": {},
   "outputs": [],
   "source": [
    "from numpy.linalg import norm"
   ]
  },
  {
   "cell_type": "code",
   "execution_count": null,
   "id": "0956083c",
   "metadata": {},
   "outputs": [],
   "source": [
    "from sklearn import preprocessing"
   ]
  },
  {
   "cell_type": "code",
   "execution_count": null,
   "id": "81b9ee95",
   "metadata": {},
   "outputs": [],
   "source": [
    "from sklearn.cluster import KMeans"
   ]
  },
  {
   "cell_type": "code",
   "execution_count": null,
   "id": "2b6ee541",
   "metadata": {},
   "outputs": [],
   "source": [
    "import matplotlib.pyplot as plt"
   ]
  },
  {
   "cell_type": "code",
   "execution_count": null,
   "id": "86c22403",
   "metadata": {},
   "outputs": [],
   "source": [
    "import json"
   ]
  },
  {
   "cell_type": "code",
   "execution_count": null,
   "id": "106ecf4a",
   "metadata": {},
   "outputs": [],
   "source": [
    "encoder_url='https://tfhub.dev/tensorflow/bert_en_uncased_L-12_H-768_A-12/4'\n",
    "preproc_url='https://tfhub.dev/tensorflow/bert_en_uncased_preprocess/3'"
   ]
  },
  {
   "cell_type": "code",
   "execution_count": null,
   "id": "da772f83",
   "metadata": {},
   "outputs": [],
   "source": [
    "bert_preproc_model = hub.KerasLayer(preproc_url)"
   ]
  },
  {
   "cell_type": "code",
   "execution_count": null,
   "id": "b5ae5a94-902b-4c7f-94ca-270bbdf25244",
   "metadata": {},
   "outputs": [],
   "source": [
    "text_test = ['fever/cough', 'cough']\n",
    "text_preprocessed = bert_preproc_model(text_test)\n",
    "text_preprocessed.keys()"
   ]
  },
  {
   "cell_type": "code",
   "execution_count": null,
   "id": "067d421d-cd11-40cb-9098-e77a37299136",
   "metadata": {},
   "outputs": [],
   "source": [
    "text_preprocessed['input_word_ids']"
   ]
  },
  {
   "cell_type": "code",
   "execution_count": null,
   "id": "16fb8dbf-5d98-4aac-a6e5-82d9ed0b0721",
   "metadata": {},
   "outputs": [],
   "source": [
    "bert_model = hub.KerasLayer(encoder_url)"
   ]
  },
  {
   "cell_type": "code",
   "execution_count": null,
   "id": "428e22ee",
   "metadata": {},
   "outputs": [],
   "source": []
  },
  {
   "cell_type": "code",
   "execution_count": null,
   "id": "443350e5-0b3e-46f7-9ac0-09acd0a91dab",
   "metadata": {},
   "outputs": [],
   "source": [
    "bert_results = bert_model(text_preprocessed)"
   ]
  },
  {
   "cell_type": "code",
   "execution_count": null,
   "id": "f5a3ef72",
   "metadata": {},
   "outputs": [],
   "source": [
    "bert_results.keys()"
   ]
  },
  {
   "cell_type": "code",
   "execution_count": null,
   "id": "c0bc52eb-a69e-4da0-a8a5-8453353f7c18",
   "metadata": {},
   "outputs": [],
   "source": [
    "bert_results['sequence_output']"
   ]
  },
  {
   "cell_type": "code",
   "execution_count": null,
   "id": "fa6764fe-4dc1-40b4-bd27-bd70f9fb18b7",
   "metadata": {},
   "outputs": [],
   "source": [
    "res=bert_results['pooled_output']"
   ]
  },
  {
   "cell_type": "code",
   "execution_count": null,
   "id": "afe39254",
   "metadata": {},
   "outputs": [],
   "source": [
    "cos=np.dot(res[0],res[1])/(norm(res[0])*norm(res[1]))"
   ]
  },
  {
   "cell_type": "code",
   "execution_count": null,
   "id": "329eadae",
   "metadata": {},
   "outputs": [],
   "source": [
    "cos"
   ]
  },
  {
   "cell_type": "code",
   "execution_count": null,
   "id": "55df88fc-9693-4b0e-9963-f66d9c0978eb",
   "metadata": {},
   "outputs": [],
   "source": [
    "df=pd.read_csv('Covid Data/deathcases.csv')"
   ]
  },
  {
   "cell_type": "code",
   "execution_count": null,
   "id": "7e8abd30",
   "metadata": {},
   "outputs": [],
   "source": [
    "df"
   ]
  },
  {
   "cell_type": "code",
   "execution_count": null,
   "id": "2e363491",
   "metadata": {},
   "outputs": [],
   "source": [
    "df['Symptoms']=df['Symptoms'].apply(lambda x: x.lower().strip(' '))"
   ]
  },
  {
   "cell_type": "code",
   "execution_count": null,
   "id": "ebff56e5",
   "metadata": {},
   "outputs": [],
   "source": [
    "label_encoder=preprocessing.LabelEncoder()"
   ]
  },
  {
   "cell_type": "code",
   "execution_count": null,
   "id": "50289b38",
   "metadata": {},
   "outputs": [],
   "source": [
    "df['symptomCode']=label_encoder.fit_transform(df['Symptoms'])"
   ]
  },
  {
   "cell_type": "code",
   "execution_count": null,
   "id": "079ac344",
   "metadata": {},
   "outputs": [],
   "source": [
    "df['symptomCode']"
   ]
  },
  {
   "cell_type": "code",
   "execution_count": null,
   "id": "6f5c46f7",
   "metadata": {},
   "outputs": [],
   "source": [
    "label_encoder.classes_"
   ]
  },
  {
   "cell_type": "code",
   "execution_count": null,
   "id": "7b0005c2",
   "metadata": {},
   "outputs": [],
   "source": [
    "symptom_list=list(label_encoder.classes_)"
   ]
  },
  {
   "cell_type": "code",
   "execution_count": null,
   "id": "4c7bb3d7",
   "metadata": {},
   "outputs": [],
   "source": [
    "symptom_preproc=bert_preproc_model(symptom_list[1000:])"
   ]
  },
  {
   "cell_type": "code",
   "execution_count": null,
   "id": "59501518",
   "metadata": {},
   "outputs": [],
   "source": [
    "symptom_preproc['input_word_ids']"
   ]
  },
  {
   "cell_type": "code",
   "execution_count": null,
   "id": "92c28c93",
   "metadata": {},
   "outputs": [],
   "source": []
  },
  {
   "cell_type": "code",
   "execution_count": null,
   "id": "e6370630",
   "metadata": {},
   "outputs": [],
   "source": [
    "res=bert_model(symptom_preproc)"
   ]
  },
  {
   "cell_type": "code",
   "execution_count": null,
   "id": "d2e625fe",
   "metadata": {},
   "outputs": [],
   "source": [
    "res['pooled_output'][0]"
   ]
  },
  {
   "cell_type": "code",
   "execution_count": null,
   "id": "3a4172e5",
   "metadata": {},
   "outputs": [],
   "source": [
    "pooled_out={x:np.array(res['pooled_output'][x] for x in range(122)}"
   ]
  },
  {
   "cell_type": "code",
   "execution_count": null,
   "id": "cfdccaf7",
   "metadata": {},
   "outputs": [],
   "source": [
    "pooled.update(pooled_out)"
   ]
  },
  {
   "cell_type": "code",
   "execution_count": null,
   "id": "c38ae6b8",
   "metadata": {},
   "outputs": [],
   "source": [
    "len(pooled)"
   ]
  },
  {
   "cell_type": "code",
   "execution_count": null,
   "id": "e2fc7dd9",
   "metadata": {},
   "outputs": [],
   "source": [
    "df['symptomcodeInverse']=label_encoder.inverse_transform(df['symptomCode'])"
   ]
  },
  {
   "cell_type": "code",
   "execution_count": null,
   "id": "d095e97e",
   "metadata": {},
   "outputs": [],
   "source": [
    "df['symptomcodeInverse']"
   ]
  },
  {
   "cell_type": "code",
   "execution_count": null,
   "id": "1e7b24ac",
   "metadata": {},
   "outputs": [],
   "source": [
    "df['symptomtensor']=df['symptomCode'].map(lambda x: tfdf.iloc[x].tolist())"
   ]
  },
  {
   "cell_type": "code",
   "execution_count": null,
   "id": "1702e015",
   "metadata": {},
   "outputs": [],
   "source": [
    "df['symptomtensor'][0]"
   ]
  },
  {
   "cell_type": "code",
   "execution_count": null,
   "id": "d9c8d50f",
   "metadata": {},
   "outputs": [],
   "source": [
    "file=open('tensor.txt', 'a')"
   ]
  },
  {
   "cell_type": "code",
   "execution_count": null,
   "id": "4a385c44",
   "metadata": {},
   "outputs": [],
   "source": [
    "for x in list(pooled.keys())[:10]:\n",
    "    tf.io.write_file('tensor.txt', str(pooled[x]))"
   ]
  },
  {
   "cell_type": "code",
   "execution_count": null,
   "id": "581be883",
   "metadata": {},
   "outputs": [],
   "source": [
    "tfdf=pd.DataFrame(pooled)"
   ]
  },
  {
   "cell_type": "code",
   "execution_count": null,
   "id": "78a92385",
   "metadata": {},
   "outputs": [],
   "source": [
    "tfdf=tfdf.transpose()"
   ]
  },
  {
   "cell_type": "code",
   "execution_count": null,
   "id": "48995594",
   "metadata": {},
   "outputs": [],
   "source": [
    "tfdf"
   ]
  },
  {
   "cell_type": "code",
   "execution_count": null,
   "id": "c8797df7",
   "metadata": {},
   "outputs": [],
   "source": [
    "tfdf.to_csv('tensor.csv', index=False)"
   ]
  },
  {
   "cell_type": "code",
   "execution_count": null,
   "id": "484e28e8",
   "metadata": {},
   "outputs": [],
   "source": [
    "tfdf=pd.read_csv('tensor.csv')"
   ]
  },
  {
   "cell_type": "code",
   "execution_count": null,
   "id": "5a6bb5c5",
   "metadata": {},
   "outputs": [],
   "source": [
    "wcss=[]"
   ]
  },
  {
   "cell_type": "code",
   "execution_count": null,
   "id": "2ebb4cbb",
   "metadata": {},
   "outputs": [],
   "source": [
    "df"
   ]
  },
  {
   "cell_type": "code",
   "execution_count": null,
   "id": "9c3fb7f8",
   "metadata": {},
   "outputs": [],
   "source": [
    "kmeansDf=df.iloc[:,[-1, -4] ]"
   ]
  },
  {
   "cell_type": "code",
   "execution_count": null,
   "id": "54353697",
   "metadata": {},
   "outputs": [],
   "source": [
    "split = pd.DataFrame(kmeansDf['symptomtensor'].to_list(), columns = range(768))"
   ]
  },
  {
   "cell_type": "code",
   "execution_count": null,
   "id": "586da200",
   "metadata": {},
   "outputs": [],
   "source": [
    "kmeansDf=pd.concat([kmeansDf, split], axis=1)"
   ]
  },
  {
   "cell_type": "code",
   "execution_count": null,
   "id": "af850223",
   "metadata": {},
   "outputs": [],
   "source": [
    "kmeansDf=kmeansDf.drop('symptomtensor', axis=1)"
   ]
  },
  {
   "cell_type": "code",
   "execution_count": null,
   "id": "9bc5d6e7",
   "metadata": {},
   "outputs": [],
   "source": [
    "kmeansDf.columns=kmeansDf.columns.astype(str)"
   ]
  },
  {
   "cell_type": "code",
   "execution_count": null,
   "id": "cdb651a7",
   "metadata": {},
   "outputs": [],
   "source": [
    "for i in range(1, 11):\n",
    "    kmeans=KMeans(n_clusters=i, random_state=0, n_init='auto')\n",
    "    kmeans.fit(kmeansDf)\n",
    "    wcss.append(kmeans.inertia_)"
   ]
  },
  {
   "cell_type": "code",
   "execution_count": null,
   "id": "2f0781c7",
   "metadata": {},
   "outputs": [],
   "source": [
    "plt.plot(range(1, 11), wcss)"
   ]
  },
  {
   "cell_type": "code",
   "execution_count": null,
   "id": "ef304ebc",
   "metadata": {},
   "outputs": [],
   "source": [
    "kmeans=KMeans(n_clusters=4, random_state=0, n_init='auto')\n",
    "kmeans.fit(kmeansDf)"
   ]
  },
  {
   "cell_type": "code",
   "execution_count": null,
   "id": "e4883f98",
   "metadata": {},
   "outputs": [],
   "source": [
    "cluster_labels=kmeans.predict(kmeansDf)"
   ]
  },
  {
   "cell_type": "code",
   "execution_count": null,
   "id": "397348fe",
   "metadata": {},
   "outputs": [],
   "source": [
    "color=['red', 'blue', 'yellow', 'green', 'black', 'pink']"
   ]
  },
  {
   "cell_type": "code",
   "execution_count": null,
   "id": "1e8f88a3",
   "metadata": {},
   "outputs": [],
   "source": [
    "df1=pd.read_csv('Covid data/deathcases.csv')"
   ]
  },
  {
   "cell_type": "code",
   "execution_count": null,
   "id": "4f70473a",
   "metadata": {},
   "outputs": [],
   "source": [
    "df1['cluster']=cluster_labels"
   ]
  },
  {
   "cell_type": "code",
   "execution_count": null,
   "id": "22e599c3",
   "metadata": {},
   "outputs": [],
   "source": [
    "df1.to_csv('symptoms_cluster_4.csv')"
   ]
  },
  {
   "cell_type": "code",
   "execution_count": null,
   "id": "c86a75d0",
   "metadata": {},
   "outputs": [],
   "source": []
  }
 ],
 "metadata": {
  "kernelspec": {
   "display_name": "Python 3 (ipykernel)",
   "language": "python",
   "name": "python3"
  },
  "language_info": {
   "codemirror_mode": {
    "name": "ipython",
    "version": 3
   },
   "file_extension": ".py",
   "mimetype": "text/x-python",
   "name": "python",
   "nbconvert_exporter": "python",
   "pygments_lexer": "ipython3",
   "version": "3.10.9"
  }
 },
 "nbformat": 4,
 "nbformat_minor": 5
}
