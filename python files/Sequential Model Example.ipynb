{
 "cells": [
  {
   "cell_type": "code",
   "execution_count": 1,
   "id": "48fa351a",
   "metadata": {},
   "outputs": [],
   "source": [
    "import numpy as np"
   ]
  },
  {
   "cell_type": "code",
   "execution_count": 2,
   "id": "f4dc019c",
   "metadata": {},
   "outputs": [],
   "source": [
    "from tensorflow.keras.models import Sequential"
   ]
  },
  {
   "cell_type": "code",
   "execution_count": 3,
   "id": "4352f763",
   "metadata": {},
   "outputs": [],
   "source": [
    "from tensorflow.keras.layers import Dense, Input, Activation"
   ]
  },
  {
   "cell_type": "code",
   "execution_count": 4,
   "id": "2f6047df",
   "metadata": {},
   "outputs": [],
   "source": [
    "from tensorflow.keras.datasets import boston_housing"
   ]
  },
  {
   "cell_type": "code",
   "execution_count": 5,
   "id": "5d66cd2c",
   "metadata": {},
   "outputs": [],
   "source": [
    "from tensorflow.keras import layers"
   ]
  },
  {
   "cell_type": "code",
   "execution_count": 6,
   "id": "83d07dd5",
   "metadata": {},
   "outputs": [],
   "source": [
    "import tensorflow as tf"
   ]
  },
  {
   "cell_type": "code",
   "execution_count": 7,
   "id": "e83400ba",
   "metadata": {},
   "outputs": [],
   "source": [
    "import matplotlib.pyplot as plt"
   ]
  },
  {
   "cell_type": "code",
   "execution_count": 8,
   "id": "0ec9965a",
   "metadata": {},
   "outputs": [],
   "source": [
    "from sklearn import preprocessing"
   ]
  },
  {
   "cell_type": "code",
   "execution_count": 9,
   "id": "341ac452",
   "metadata": {},
   "outputs": [],
   "source": [
    "from sklearn.preprocessing import scale"
   ]
  },
  {
   "cell_type": "code",
   "execution_count": 27,
   "id": "35d986e1",
   "metadata": {},
   "outputs": [],
   "source": [
    "from keras.optimizers import RMSprop "
   ]
  },
  {
   "cell_type": "code",
   "execution_count": 29,
   "id": "32107156",
   "metadata": {},
   "outputs": [],
   "source": [
    "from keras.callbacks import EarlyStopping "
   ]
  },
  {
   "cell_type": "code",
   "execution_count": 10,
   "id": "61d757ab",
   "metadata": {},
   "outputs": [],
   "source": [
    "SEED=42"
   ]
  },
  {
   "cell_type": "code",
   "execution_count": 11,
   "id": "6fb276fb",
   "metadata": {},
   "outputs": [],
   "source": [
    "np.random.seed(SEED)"
   ]
  },
  {
   "cell_type": "code",
   "execution_count": 12,
   "id": "ec42bacb",
   "metadata": {},
   "outputs": [],
   "source": [
    "tf.random.set_seed(SEED)"
   ]
  },
  {
   "cell_type": "code",
   "execution_count": 13,
   "id": "11ed5cda",
   "metadata": {},
   "outputs": [],
   "source": [
    "(X_train, Y_train), (X_test, Y_test)=boston_housing.load_data()"
   ]
  },
  {
   "cell_type": "code",
   "execution_count": 14,
   "id": "243562f6",
   "metadata": {},
   "outputs": [
    {
     "name": "stdout",
     "output_type": "stream",
     "text": [
      "(404, 13)\n"
     ]
    }
   ],
   "source": [
    "print(X_train.shape)"
   ]
  },
  {
   "cell_type": "code",
   "execution_count": 15,
   "id": "395fbe55",
   "metadata": {},
   "outputs": [
    {
     "name": "stdout",
     "output_type": "stream",
     "text": [
      "Input features:  [  1.23247   0.        8.14      0.        0.538     6.142    91.7\n",
      "   3.9769    4.      307.       21.      396.9      18.72   ]\n"
     ]
    }
   ],
   "source": [
    "print(\"Input features: \", X_train[0])"
   ]
  },
  {
   "cell_type": "code",
   "execution_count": 16,
   "id": "b387e5b3",
   "metadata": {},
   "outputs": [
    {
     "name": "stdout",
     "output_type": "stream",
     "text": [
      "Output target:  15.2\n"
     ]
    }
   ],
   "source": [
    "print(\"Output target: \", Y_train[0])"
   ]
  },
  {
   "cell_type": "code",
   "execution_count": 17,
   "id": "146452ca",
   "metadata": {},
   "outputs": [],
   "source": [
    "boston_features={'Average Number of Rooms': 5}"
   ]
  },
  {
   "cell_type": "code",
   "execution_count": 18,
   "id": "d92a2940",
   "metadata": {},
   "outputs": [],
   "source": [
    "x_train_scaled=preprocessing.scale(X_train)"
   ]
  },
  {
   "cell_type": "code",
   "execution_count": 19,
   "id": "c36b0835",
   "metadata": {},
   "outputs": [],
   "source": [
    "scaler=preprocessing.StandardScaler().fit(X_train)"
   ]
  },
  {
   "cell_type": "code",
   "execution_count": 20,
   "id": "55d3315b",
   "metadata": {},
   "outputs": [],
   "source": [
    "x_test_scaled=preprocessing.scale(X_test)"
   ]
  },
  {
   "cell_type": "code",
   "execution_count": 21,
   "id": "fb01693a",
   "metadata": {},
   "outputs": [],
   "source": [
    "model=Sequential()"
   ]
  },
  {
   "cell_type": "code",
   "execution_count": 22,
   "id": "09386d54",
   "metadata": {},
   "outputs": [],
   "source": [
    "model.add(Dense(64, kernel_initializer = 'normal', activation = 'relu', input_shape = (13,))) "
   ]
  },
  {
   "cell_type": "code",
   "execution_count": 24,
   "id": "09d10786",
   "metadata": {},
   "outputs": [],
   "source": [
    "model.add(Dense(64, activation = 'relu'))"
   ]
  },
  {
   "cell_type": "code",
   "execution_count": 25,
   "id": "763979d4",
   "metadata": {},
   "outputs": [],
   "source": [
    "model.add(Dense(1))"
   ]
  },
  {
   "cell_type": "code",
   "execution_count": 28,
   "id": "427bade1",
   "metadata": {},
   "outputs": [],
   "source": [
    "model.compile(\n",
    "   loss = 'mse', \n",
    "   optimizer = RMSprop(), \n",
    "   metrics = ['mean_absolute_error']\n",
    ")"
   ]
  },
  {
   "cell_type": "code",
   "execution_count": 31,
   "id": "1ad855db",
   "metadata": {},
   "outputs": [
    {
     "name": "stdout",
     "output_type": "stream",
     "text": [
      "Epoch 1/500\n",
      "3/3 [==============================] - 2s 218ms/step - loss: 556.0706 - mean_absolute_error: 21.7132 - val_loss: 610.3986 - val_mean_absolute_error: 22.9486\n",
      "Epoch 2/500\n",
      "3/3 [==============================] - 0s 35ms/step - loss: 536.5364 - mean_absolute_error: 21.2650 - val_loss: 590.8708 - val_mean_absolute_error: 22.5242\n",
      "Epoch 3/500\n",
      "3/3 [==============================] - 0s 34ms/step - loss: 517.9994 - mean_absolute_error: 20.8273 - val_loss: 570.1763 - val_mean_absolute_error: 22.0652\n",
      "Epoch 4/500\n",
      "3/3 [==============================] - 0s 33ms/step - loss: 497.8018 - mean_absolute_error: 20.3479 - val_loss: 546.8747 - val_mean_absolute_error: 21.5379\n",
      "Epoch 5/500\n",
      "3/3 [==============================] - 0s 34ms/step - loss: 475.4815 - mean_absolute_error: 19.8062 - val_loss: 522.3491 - val_mean_absolute_error: 20.9644\n",
      "Epoch 6/500\n",
      "3/3 [==============================] - 0s 33ms/step - loss: 451.6726 - mean_absolute_error: 19.2193 - val_loss: 495.7502 - val_mean_absolute_error: 20.3339\n",
      "Epoch 7/500\n",
      "3/3 [==============================] - 0s 32ms/step - loss: 426.2777 - mean_absolute_error: 18.5763 - val_loss: 468.0474 - val_mean_absolute_error: 19.6742\n",
      "Epoch 8/500\n",
      "3/3 [==============================] - 0s 34ms/step - loss: 399.4885 - mean_absolute_error: 17.8951 - val_loss: 438.1108 - val_mean_absolute_error: 18.9398\n",
      "Epoch 9/500\n",
      "3/3 [==============================] - 0s 32ms/step - loss: 371.4793 - mean_absolute_error: 17.1267 - val_loss: 408.9526 - val_mean_absolute_error: 18.1826\n",
      "Epoch 10/500\n",
      "3/3 [==============================] - 0s 35ms/step - loss: 343.6500 - mean_absolute_error: 16.3687 - val_loss: 378.8552 - val_mean_absolute_error: 17.3628\n",
      "Epoch 11/500\n",
      "3/3 [==============================] - 0s 32ms/step - loss: 315.3123 - mean_absolute_error: 15.5758 - val_loss: 348.3000 - val_mean_absolute_error: 16.4956\n",
      "Epoch 12/500\n",
      "3/3 [==============================] - 0s 35ms/step - loss: 286.8372 - mean_absolute_error: 14.7665 - val_loss: 318.2230 - val_mean_absolute_error: 15.6088\n",
      "Epoch 13/500\n",
      "3/3 [==============================] - 0s 36ms/step - loss: 259.1075 - mean_absolute_error: 13.9193 - val_loss: 289.2163 - val_mean_absolute_error: 14.7002\n",
      "Epoch 14/500\n",
      "3/3 [==============================] - 0s 38ms/step - loss: 232.9097 - mean_absolute_error: 13.0767 - val_loss: 262.1984 - val_mean_absolute_error: 13.8358\n",
      "Epoch 15/500\n",
      "3/3 [==============================] - 0s 38ms/step - loss: 208.2560 - mean_absolute_error: 12.2389 - val_loss: 235.0812 - val_mean_absolute_error: 12.9038\n",
      "Epoch 16/500\n",
      "3/3 [==============================] - 0s 34ms/step - loss: 184.3802 - mean_absolute_error: 11.3558 - val_loss: 211.1735 - val_mean_absolute_error: 12.0106\n",
      "Epoch 17/500\n",
      "3/3 [==============================] - 0s 34ms/step - loss: 163.4362 - mean_absolute_error: 10.5256 - val_loss: 189.3174 - val_mean_absolute_error: 11.1260\n",
      "Epoch 18/500\n",
      "3/3 [==============================] - 0s 30ms/step - loss: 144.6258 - mean_absolute_error: 9.8011 - val_loss: 169.5193 - val_mean_absolute_error: 10.3106\n",
      "Epoch 19/500\n",
      "3/3 [==============================] - 0s 33ms/step - loss: 127.8746 - mean_absolute_error: 9.1083 - val_loss: 151.6248 - val_mean_absolute_error: 9.5861\n",
      "Epoch 20/500\n",
      "3/3 [==============================] - 0s 34ms/step - loss: 113.2628 - mean_absolute_error: 8.4966 - val_loss: 135.6796 - val_mean_absolute_error: 8.9933\n",
      "Epoch 21/500\n",
      "3/3 [==============================] - 0s 36ms/step - loss: 100.4535 - mean_absolute_error: 7.9595 - val_loss: 121.1310 - val_mean_absolute_error: 8.4314\n",
      "Epoch 22/500\n",
      "3/3 [==============================] - 0s 39ms/step - loss: 89.1445 - mean_absolute_error: 7.4698 - val_loss: 109.1144 - val_mean_absolute_error: 7.9834\n",
      "Epoch 23/500\n",
      "3/3 [==============================] - 0s 41ms/step - loss: 79.9250 - mean_absolute_error: 7.0314 - val_loss: 98.8015 - val_mean_absolute_error: 7.5962\n",
      "Epoch 24/500\n",
      "3/3 [==============================] - 0s 37ms/step - loss: 72.2721 - mean_absolute_error: 6.6475 - val_loss: 90.2694 - val_mean_absolute_error: 7.2194\n",
      "Epoch 25/500\n",
      "3/3 [==============================] - 0s 40ms/step - loss: 65.5584 - mean_absolute_error: 6.2938 - val_loss: 81.9532 - val_mean_absolute_error: 6.8419\n",
      "Epoch 26/500\n",
      "3/3 [==============================] - 0s 34ms/step - loss: 59.3260 - mean_absolute_error: 5.9195 - val_loss: 74.7814 - val_mean_absolute_error: 6.5268\n",
      "Epoch 27/500\n",
      "3/3 [==============================] - 0s 35ms/step - loss: 54.1450 - mean_absolute_error: 5.6177 - val_loss: 68.7125 - val_mean_absolute_error: 6.2605\n",
      "Epoch 28/500\n",
      "3/3 [==============================] - 0s 36ms/step - loss: 49.7016 - mean_absolute_error: 5.3407 - val_loss: 63.5439 - val_mean_absolute_error: 6.0169\n",
      "Epoch 29/500\n",
      "3/3 [==============================] - 0s 34ms/step - loss: 45.8838 - mean_absolute_error: 5.0487 - val_loss: 58.4761 - val_mean_absolute_error: 5.7754\n",
      "Epoch 30/500\n",
      "3/3 [==============================] - 0s 33ms/step - loss: 42.7596 - mean_absolute_error: 4.7961 - val_loss: 54.5226 - val_mean_absolute_error: 5.5498\n",
      "Epoch 31/500\n",
      "3/3 [==============================] - 0s 37ms/step - loss: 39.8218 - mean_absolute_error: 4.5488 - val_loss: 50.3324 - val_mean_absolute_error: 5.3555\n",
      "Epoch 32/500\n",
      "3/3 [==============================] - 0s 36ms/step - loss: 36.9253 - mean_absolute_error: 4.3600 - val_loss: 46.8423 - val_mean_absolute_error: 5.1717\n",
      "Epoch 33/500\n",
      "3/3 [==============================] - 0s 42ms/step - loss: 34.8218 - mean_absolute_error: 4.1787 - val_loss: 43.3397 - val_mean_absolute_error: 4.9817\n",
      "Epoch 34/500\n",
      "3/3 [==============================] - 0s 42ms/step - loss: 32.7804 - mean_absolute_error: 4.0222 - val_loss: 40.9580 - val_mean_absolute_error: 4.8297\n",
      "Epoch 35/500\n",
      "3/3 [==============================] - 0s 41ms/step - loss: 31.1361 - mean_absolute_error: 3.8927 - val_loss: 38.8586 - val_mean_absolute_error: 4.6777\n",
      "Epoch 36/500\n",
      "3/3 [==============================] - 0s 39ms/step - loss: 30.1950 - mean_absolute_error: 3.7784 - val_loss: 36.3917 - val_mean_absolute_error: 4.5404\n",
      "Epoch 37/500\n",
      "3/3 [==============================] - 0s 36ms/step - loss: 28.6821 - mean_absolute_error: 3.6881 - val_loss: 34.7784 - val_mean_absolute_error: 4.4768\n",
      "Epoch 38/500\n",
      "3/3 [==============================] - 0s 46ms/step - loss: 27.5692 - mean_absolute_error: 3.6242 - val_loss: 32.9808 - val_mean_absolute_error: 4.3680\n",
      "Epoch 39/500\n",
      "3/3 [==============================] - 0s 34ms/step - loss: 26.6485 - mean_absolute_error: 3.5776 - val_loss: 31.7921 - val_mean_absolute_error: 4.2604\n",
      "Epoch 40/500\n",
      "3/3 [==============================] - 0s 35ms/step - loss: 26.0830 - mean_absolute_error: 3.5103 - val_loss: 30.8834 - val_mean_absolute_error: 4.1941\n",
      "Epoch 41/500\n",
      "3/3 [==============================] - 0s 33ms/step - loss: 25.5651 - mean_absolute_error: 3.4822 - val_loss: 30.3767 - val_mean_absolute_error: 4.1405\n",
      "Epoch 42/500\n",
      "3/3 [==============================] - 0s 31ms/step - loss: 25.0327 - mean_absolute_error: 3.4343 - val_loss: 29.5061 - val_mean_absolute_error: 4.0879\n",
      "Epoch 43/500\n",
      "3/3 [==============================] - 0s 31ms/step - loss: 24.2826 - mean_absolute_error: 3.3775 - val_loss: 28.9795 - val_mean_absolute_error: 4.1336\n",
      "Epoch 44/500\n",
      "3/3 [==============================] - 0s 40ms/step - loss: 23.7245 - mean_absolute_error: 3.3590 - val_loss: 27.4627 - val_mean_absolute_error: 3.9581\n",
      "Epoch 45/500\n",
      "3/3 [==============================] - 0s 37ms/step - loss: 23.3190 - mean_absolute_error: 3.3511 - val_loss: 26.8250 - val_mean_absolute_error: 3.9006\n",
      "Epoch 46/500\n",
      "3/3 [==============================] - 0s 37ms/step - loss: 22.9410 - mean_absolute_error: 3.2890 - val_loss: 26.1774 - val_mean_absolute_error: 3.8463\n",
      "Epoch 47/500\n",
      "3/3 [==============================] - 0s 32ms/step - loss: 22.3695 - mean_absolute_error: 3.2509 - val_loss: 25.9353 - val_mean_absolute_error: 3.9397\n",
      "Epoch 48/500\n",
      "3/3 [==============================] - 0s 33ms/step - loss: 21.5857 - mean_absolute_error: 3.2405 - val_loss: 24.6790 - val_mean_absolute_error: 3.8005\n",
      "Epoch 49/500\n",
      "3/3 [==============================] - 0s 33ms/step - loss: 21.1289 - mean_absolute_error: 3.1910 - val_loss: 24.1487 - val_mean_absolute_error: 3.7597\n",
      "Epoch 50/500\n"
     ]
    },
    {
     "name": "stdout",
     "output_type": "stream",
     "text": [
      "3/3 [==============================] - 0s 32ms/step - loss: 20.8940 - mean_absolute_error: 3.1924 - val_loss: 23.9108 - val_mean_absolute_error: 3.7902\n",
      "Epoch 51/500\n",
      "3/3 [==============================] - 0s 33ms/step - loss: 20.2345 - mean_absolute_error: 3.1392 - val_loss: 22.8672 - val_mean_absolute_error: 3.6349\n",
      "Epoch 52/500\n",
      "3/3 [==============================] - 0s 32ms/step - loss: 20.0126 - mean_absolute_error: 3.1005 - val_loss: 22.2816 - val_mean_absolute_error: 3.5353\n",
      "Epoch 53/500\n",
      "3/3 [==============================] - 0s 31ms/step - loss: 19.4540 - mean_absolute_error: 3.0489 - val_loss: 21.8125 - val_mean_absolute_error: 3.5538\n",
      "Epoch 54/500\n",
      "3/3 [==============================] - 0s 33ms/step - loss: 19.1223 - mean_absolute_error: 3.0171 - val_loss: 22.9376 - val_mean_absolute_error: 3.7717\n",
      "Epoch 55/500\n",
      "3/3 [==============================] - 0s 36ms/step - loss: 19.3278 - mean_absolute_error: 3.1155 - val_loss: 21.5269 - val_mean_absolute_error: 3.5401\n",
      "Epoch 56/500\n",
      "3/3 [==============================] - 0s 38ms/step - loss: 18.2999 - mean_absolute_error: 2.9819 - val_loss: 20.8528 - val_mean_absolute_error: 3.4320\n",
      "Epoch 57/500\n",
      "3/3 [==============================] - 0s 37ms/step - loss: 17.9360 - mean_absolute_error: 2.9492 - val_loss: 20.3799 - val_mean_absolute_error: 3.3871\n",
      "Epoch 58/500\n",
      "3/3 [==============================] - 0s 35ms/step - loss: 17.6726 - mean_absolute_error: 2.9304 - val_loss: 20.4661 - val_mean_absolute_error: 3.4102\n",
      "Epoch 59/500\n",
      "3/3 [==============================] - 0s 38ms/step - loss: 17.5536 - mean_absolute_error: 2.9393 - val_loss: 20.5246 - val_mean_absolute_error: 3.4671\n",
      "Epoch 60/500\n",
      "3/3 [==============================] - 0s 35ms/step - loss: 17.0821 - mean_absolute_error: 2.8789 - val_loss: 19.4305 - val_mean_absolute_error: 3.2869\n",
      "Epoch 61/500\n",
      "3/3 [==============================] - 0s 37ms/step - loss: 16.8242 - mean_absolute_error: 2.8579 - val_loss: 19.3189 - val_mean_absolute_error: 3.3039\n",
      "Epoch 62/500\n",
      "3/3 [==============================] - 0s 36ms/step - loss: 16.5497 - mean_absolute_error: 2.8085 - val_loss: 18.8488 - val_mean_absolute_error: 3.2532\n",
      "Epoch 63/500\n",
      "3/3 [==============================] - 0s 34ms/step - loss: 16.1790 - mean_absolute_error: 2.7729 - val_loss: 19.0993 - val_mean_absolute_error: 3.3154\n",
      "Epoch 64/500\n",
      "3/3 [==============================] - 0s 34ms/step - loss: 15.8076 - mean_absolute_error: 2.7887 - val_loss: 18.5134 - val_mean_absolute_error: 3.2318\n",
      "Epoch 65/500\n",
      "3/3 [==============================] - 0s 30ms/step - loss: 15.4166 - mean_absolute_error: 2.7226 - val_loss: 18.7450 - val_mean_absolute_error: 3.2634\n",
      "Epoch 66/500\n",
      "3/3 [==============================] - 0s 32ms/step - loss: 15.0795 - mean_absolute_error: 2.7089 - val_loss: 17.7100 - val_mean_absolute_error: 3.1005\n",
      "Epoch 67/500\n",
      "3/3 [==============================] - 0s 34ms/step - loss: 15.3215 - mean_absolute_error: 2.7404 - val_loss: 17.5650 - val_mean_absolute_error: 3.0857\n",
      "Epoch 68/500\n",
      "3/3 [==============================] - 0s 37ms/step - loss: 14.7240 - mean_absolute_error: 2.6738 - val_loss: 17.6366 - val_mean_absolute_error: 3.1323\n",
      "Epoch 69/500\n",
      "3/3 [==============================] - 0s 37ms/step - loss: 14.2288 - mean_absolute_error: 2.6347 - val_loss: 17.0166 - val_mean_absolute_error: 3.0546\n",
      "Epoch 70/500\n",
      "3/3 [==============================] - 0s 37ms/step - loss: 13.9759 - mean_absolute_error: 2.6035 - val_loss: 16.6715 - val_mean_absolute_error: 3.0583\n",
      "Epoch 71/500\n",
      "3/3 [==============================] - 0s 36ms/step - loss: 13.8496 - mean_absolute_error: 2.5771 - val_loss: 16.2945 - val_mean_absolute_error: 2.9416\n",
      "Epoch 72/500\n",
      "3/3 [==============================] - 0s 36ms/step - loss: 13.7491 - mean_absolute_error: 2.6057 - val_loss: 16.1252 - val_mean_absolute_error: 3.0118\n",
      "Epoch 73/500\n",
      "3/3 [==============================] - 0s 36ms/step - loss: 13.2849 - mean_absolute_error: 2.5056 - val_loss: 16.0918 - val_mean_absolute_error: 2.9455\n",
      "Epoch 74/500\n",
      "3/3 [==============================] - 0s 36ms/step - loss: 13.1686 - mean_absolute_error: 2.5062 - val_loss: 16.3908 - val_mean_absolute_error: 2.9387\n",
      "Epoch 75/500\n",
      "3/3 [==============================] - 0s 38ms/step - loss: 13.0336 - mean_absolute_error: 2.5469 - val_loss: 15.4343 - val_mean_absolute_error: 2.8507\n",
      "Epoch 76/500\n",
      "3/3 [==============================] - 0s 34ms/step - loss: 12.7045 - mean_absolute_error: 2.4624 - val_loss: 15.1836 - val_mean_absolute_error: 2.8523\n",
      "Epoch 77/500\n",
      "3/3 [==============================] - 0s 37ms/step - loss: 12.4275 - mean_absolute_error: 2.4200 - val_loss: 17.0533 - val_mean_absolute_error: 3.0621\n",
      "Epoch 78/500\n",
      "3/3 [==============================] - 0s 37ms/step - loss: 12.2616 - mean_absolute_error: 2.4423 - val_loss: 15.1626 - val_mean_absolute_error: 2.8264\n",
      "Epoch 79/500\n",
      "3/3 [==============================] - 0s 35ms/step - loss: 12.0825 - mean_absolute_error: 2.4148 - val_loss: 15.4691 - val_mean_absolute_error: 2.9076\n",
      "Epoch 80/500\n",
      "3/3 [==============================] - 0s 37ms/step - loss: 11.9416 - mean_absolute_error: 2.3818 - val_loss: 16.0958 - val_mean_absolute_error: 2.9363\n",
      "Epoch 81/500\n",
      "3/3 [==============================] - 0s 37ms/step - loss: 11.6310 - mean_absolute_error: 2.3868 - val_loss: 14.7312 - val_mean_absolute_error: 2.8173\n",
      "Epoch 82/500\n",
      "3/3 [==============================] - 0s 37ms/step - loss: 11.4748 - mean_absolute_error: 2.3346 - val_loss: 14.8013 - val_mean_absolute_error: 2.7435\n",
      "Epoch 83/500\n",
      "3/3 [==============================] - 0s 36ms/step - loss: 11.5102 - mean_absolute_error: 2.3629 - val_loss: 14.5384 - val_mean_absolute_error: 2.7564\n",
      "Epoch 84/500\n",
      "3/3 [==============================] - 0s 38ms/step - loss: 11.2925 - mean_absolute_error: 2.3296 - val_loss: 14.8960 - val_mean_absolute_error: 2.8734\n",
      "Epoch 85/500\n",
      "3/3 [==============================] - 0s 36ms/step - loss: 10.9842 - mean_absolute_error: 2.2891 - val_loss: 14.2305 - val_mean_absolute_error: 2.7440\n",
      "Epoch 86/500\n",
      "3/3 [==============================] - 0s 36ms/step - loss: 11.1897 - mean_absolute_error: 2.3076 - val_loss: 14.5583 - val_mean_absolute_error: 2.7573\n",
      "Epoch 87/500\n",
      "3/3 [==============================] - 0s 35ms/step - loss: 10.9509 - mean_absolute_error: 2.2680 - val_loss: 14.8918 - val_mean_absolute_error: 2.8219\n",
      "Epoch 88/500\n",
      "3/3 [==============================] - 0s 36ms/step - loss: 10.5780 - mean_absolute_error: 2.2492 - val_loss: 14.1658 - val_mean_absolute_error: 2.7215\n",
      "Epoch 89/500\n",
      "3/3 [==============================] - 0s 37ms/step - loss: 10.5474 - mean_absolute_error: 2.2180 - val_loss: 14.3411 - val_mean_absolute_error: 2.7739\n",
      "Epoch 90/500\n",
      "3/3 [==============================] - 0s 35ms/step - loss: 10.3809 - mean_absolute_error: 2.2183 - val_loss: 14.7887 - val_mean_absolute_error: 2.7438\n",
      "Epoch 91/500\n",
      "3/3 [==============================] - 0s 37ms/step - loss: 10.5020 - mean_absolute_error: 2.2547 - val_loss: 13.8384 - val_mean_absolute_error: 2.6861\n",
      "Epoch 92/500\n",
      "3/3 [==============================] - 0s 35ms/step - loss: 10.0304 - mean_absolute_error: 2.1583 - val_loss: 13.7461 - val_mean_absolute_error: 2.6335\n",
      "Epoch 93/500\n",
      "3/3 [==============================] - 0s 35ms/step - loss: 10.2173 - mean_absolute_error: 2.1703 - val_loss: 13.9898 - val_mean_absolute_error: 2.6049\n",
      "Epoch 94/500\n",
      "3/3 [==============================] - 0s 34ms/step - loss: 9.8872 - mean_absolute_error: 2.1657 - val_loss: 14.0495 - val_mean_absolute_error: 2.5597\n",
      "Epoch 95/500\n",
      "3/3 [==============================] - 0s 37ms/step - loss: 9.8594 - mean_absolute_error: 2.1645 - val_loss: 13.4837 - val_mean_absolute_error: 2.6092\n",
      "Epoch 96/500\n",
      "3/3 [==============================] - 0s 39ms/step - loss: 9.7721 - mean_absolute_error: 2.1366 - val_loss: 13.8234 - val_mean_absolute_error: 2.5933\n",
      "Epoch 97/500\n",
      "3/3 [==============================] - 0s 37ms/step - loss: 9.6243 - mean_absolute_error: 2.1166 - val_loss: 13.5647 - val_mean_absolute_error: 2.5599\n",
      "Epoch 98/500\n",
      "3/3 [==============================] - 0s 37ms/step - loss: 9.6169 - mean_absolute_error: 2.1410 - val_loss: 13.7305 - val_mean_absolute_error: 2.6035\n",
      "Epoch 99/500\n",
      "3/3 [==============================] - 0s 35ms/step - loss: 9.6052 - mean_absolute_error: 2.1409 - val_loss: 14.3238 - val_mean_absolute_error: 2.6229\n"
     ]
    },
    {
     "name": "stdout",
     "output_type": "stream",
     "text": [
      "Epoch 100/500\n",
      "3/3 [==============================] - 0s 35ms/step - loss: 9.3067 - mean_absolute_error: 2.1060 - val_loss: 13.3339 - val_mean_absolute_error: 2.5520\n",
      "Epoch 101/500\n",
      "3/3 [==============================] - 0s 37ms/step - loss: 9.5202 - mean_absolute_error: 2.1345 - val_loss: 13.8577 - val_mean_absolute_error: 2.6314\n",
      "Epoch 102/500\n",
      "3/3 [==============================] - 0s 37ms/step - loss: 9.3382 - mean_absolute_error: 2.0928 - val_loss: 14.6183 - val_mean_absolute_error: 2.5799\n",
      "Epoch 103/500\n",
      "3/3 [==============================] - 0s 40ms/step - loss: 9.4692 - mean_absolute_error: 2.1086 - val_loss: 14.8248 - val_mean_absolute_error: 2.6509\n",
      "Epoch 104/500\n",
      "3/3 [==============================] - 0s 35ms/step - loss: 9.0893 - mean_absolute_error: 2.0854 - val_loss: 13.9687 - val_mean_absolute_error: 2.5015\n",
      "Epoch 105/500\n",
      "3/3 [==============================] - 0s 35ms/step - loss: 9.0792 - mean_absolute_error: 2.1142 - val_loss: 14.0247 - val_mean_absolute_error: 2.6400\n",
      "Epoch 106/500\n",
      "3/3 [==============================] - 0s 38ms/step - loss: 8.9656 - mean_absolute_error: 2.0776 - val_loss: 14.1108 - val_mean_absolute_error: 2.5051\n",
      "Epoch 107/500\n",
      "3/3 [==============================] - 0s 37ms/step - loss: 9.0719 - mean_absolute_error: 2.0781 - val_loss: 14.4752 - val_mean_absolute_error: 2.5661\n",
      "Epoch 108/500\n",
      "3/3 [==============================] - 0s 37ms/step - loss: 8.8228 - mean_absolute_error: 2.0640 - val_loss: 13.7846 - val_mean_absolute_error: 2.4712\n",
      "Epoch 109/500\n",
      "3/3 [==============================] - 0s 37ms/step - loss: 8.9046 - mean_absolute_error: 2.0765 - val_loss: 13.4786 - val_mean_absolute_error: 2.5637\n",
      "Epoch 110/500\n",
      "3/3 [==============================] - 0s 36ms/step - loss: 8.9105 - mean_absolute_error: 2.0396 - val_loss: 13.8161 - val_mean_absolute_error: 2.5068\n",
      "Epoch 111/500\n",
      "3/3 [==============================] - 0s 38ms/step - loss: 8.6786 - mean_absolute_error: 2.0309 - val_loss: 13.5741 - val_mean_absolute_error: 2.4483\n",
      "Epoch 112/500\n",
      "3/3 [==============================] - 0s 37ms/step - loss: 8.7521 - mean_absolute_error: 2.0588 - val_loss: 13.6850 - val_mean_absolute_error: 2.4641\n",
      "Epoch 113/500\n",
      "3/3 [==============================] - 0s 37ms/step - loss: 8.5605 - mean_absolute_error: 2.0311 - val_loss: 13.5942 - val_mean_absolute_error: 2.4855\n",
      "Epoch 114/500\n",
      "3/3 [==============================] - 0s 39ms/step - loss: 8.6246 - mean_absolute_error: 2.0332 - val_loss: 13.6912 - val_mean_absolute_error: 2.6006\n",
      "Epoch 115/500\n",
      "3/3 [==============================] - 0s 36ms/step - loss: 8.8131 - mean_absolute_error: 2.0675 - val_loss: 13.4758 - val_mean_absolute_error: 2.5030\n",
      "Epoch 116/500\n",
      "3/3 [==============================] - 0s 38ms/step - loss: 8.5439 - mean_absolute_error: 2.0282 - val_loss: 13.9587 - val_mean_absolute_error: 2.5362\n",
      "Epoch 117/500\n",
      "3/3 [==============================] - 0s 38ms/step - loss: 8.4544 - mean_absolute_error: 2.0062 - val_loss: 14.3356 - val_mean_absolute_error: 2.4958\n",
      "Epoch 118/500\n",
      "3/3 [==============================] - 0s 37ms/step - loss: 8.5836 - mean_absolute_error: 2.0332 - val_loss: 14.6055 - val_mean_absolute_error: 2.6064\n",
      "Epoch 119/500\n",
      "3/3 [==============================] - 0s 36ms/step - loss: 8.7126 - mean_absolute_error: 2.0705 - val_loss: 13.3813 - val_mean_absolute_error: 2.4903\n",
      "Epoch 120/500\n",
      "3/3 [==============================] - 0s 38ms/step - loss: 8.4519 - mean_absolute_error: 2.0047 - val_loss: 14.0744 - val_mean_absolute_error: 2.6026\n"
     ]
    }
   ],
   "source": [
    "history = model.fit(\n",
    "   x_train_scaled, Y_train,    \n",
    "   batch_size=128, \n",
    "   epochs = 500, \n",
    "   verbose = 1, \n",
    "   validation_split = 0.2, \n",
    "   callbacks = [EarlyStopping(monitor = 'val_loss', patience = 20)]\n",
    ")"
   ]
  },
  {
   "cell_type": "code",
   "execution_count": 33,
   "id": "0ac6b10a",
   "metadata": {},
   "outputs": [],
   "source": [
    "score = model.evaluate(x_test_scaled, Y_test, verbose = 0) "
   ]
  },
  {
   "cell_type": "code",
   "execution_count": 34,
   "id": "31b7b55f",
   "metadata": {},
   "outputs": [
    {
     "name": "stdout",
     "output_type": "stream",
     "text": [
      "Test loss: 19.36477279663086\n"
     ]
    }
   ],
   "source": [
    "print('Test loss:', score[0]) "
   ]
  },
  {
   "cell_type": "code",
   "execution_count": 35,
   "id": "6c7b2843",
   "metadata": {},
   "outputs": [
    {
     "name": "stdout",
     "output_type": "stream",
     "text": [
      "Test accuracy: 3.001091241836548\n"
     ]
    }
   ],
   "source": [
    "print('Test accuracy:', score[1])"
   ]
  },
  {
   "cell_type": "code",
   "execution_count": 36,
   "id": "009f1320",
   "metadata": {},
   "outputs": [
    {
     "name": "stdout",
     "output_type": "stream",
     "text": [
      "4/4 [==============================] - 0s 3ms/step\n"
     ]
    }
   ],
   "source": [
    "prediction = model.predict(x_test_scaled) "
   ]
  },
  {
   "cell_type": "code",
   "execution_count": 37,
   "id": "dadd01b0",
   "metadata": {},
   "outputs": [
    {
     "name": "stdout",
     "output_type": "stream",
     "text": [
      "[ 4.8518825 19.036133  23.128456  29.974815  26.23793   20.456987\n",
      " 28.650993  22.83118   19.516464  20.336689  18.533987  17.299326\n",
      " 15.311155  44.9472    15.84841   20.33029   28.394499  21.643858\n",
      " 16.860628  30.193577   9.925295  13.166012  22.395433  16.196733\n",
      " 23.05381   22.960754  29.611803  29.51386    8.358374  22.132349\n",
      " 21.011486  11.536144  32.85661   26.647312  14.048264   6.2486153\n",
      " 13.977741  17.835693  18.994516  28.335934  29.909544  29.26485\n",
      " 11.277479  43.579414  30.506721  24.999767  27.67885   18.617891\n",
      " 20.349604  23.829006  37.429913  20.305004  11.320065  16.351562\n",
      " 36.95978   29.140781   9.038948  50.584656  33.78714   23.945812\n",
      " 22.675306  13.901331  11.16733   19.697271  25.127457  23.4506\n",
      " 10.367912  23.794704  14.128042   4.5977473 29.852753  30.073647\n",
      " 22.976715  14.423958  27.275915  19.178453  21.32911   24.978138\n",
      " 37.24891    9.669046  21.443707  38.973396  15.306236   9.982012\n",
      " 19.384666  19.946764  16.6496    18.384106  23.798676  28.914207\n",
      " 20.582127  21.256142  27.416119  44.10756   37.083683  17.727434\n",
      " 36.2927    47.089764  28.103281  44.126244  31.189768  19.167484 ]\n"
     ]
    }
   ],
   "source": [
    "print(prediction.flatten()) "
   ]
  },
  {
   "cell_type": "code",
   "execution_count": 38,
   "id": "4170b4bd",
   "metadata": {},
   "outputs": [
    {
     "name": "stdout",
     "output_type": "stream",
     "text": [
      "[ 7.2 18.8 19.  27.  22.2 24.5 31.2 22.9 20.5 23.2 18.6 14.5 17.8 50.\n",
      " 20.8 24.3 24.2 19.8 19.1 22.7 12.  10.2 20.  18.5 20.9 23.  27.5 30.1\n",
      "  9.5 22.  21.2 14.1 33.1 23.4 20.1  7.4 15.4 23.8 20.1 24.5 33.  28.4\n",
      " 14.1 46.7 32.5 29.6 28.4 19.8 20.2 25.  35.4 20.3  9.7 14.5 34.9 26.6\n",
      "  7.2 50.  32.4 21.6 29.8 13.1 27.5 21.2 23.1 21.9 13.  23.2  8.1  5.6\n",
      " 21.7 29.6 19.6  7.  26.4 18.9 20.9 28.1 35.4 10.2 24.3 43.1 17.6 15.4\n",
      " 16.2 27.1 21.4 21.5 22.4 25.  16.6 18.6 22.  42.8 35.1 21.5 36.  21.9\n",
      " 24.1 50.  26.7 25. ]\n"
     ]
    }
   ],
   "source": [
    "print(Y_test)"
   ]
  },
  {
   "cell_type": "code",
   "execution_count": null,
   "id": "3669c8c7",
   "metadata": {},
   "outputs": [],
   "source": []
  }
 ],
 "metadata": {
  "kernelspec": {
   "display_name": "Python 3 (ipykernel)",
   "language": "python",
   "name": "python3"
  },
  "language_info": {
   "codemirror_mode": {
    "name": "ipython",
    "version": 3
   },
   "file_extension": ".py",
   "mimetype": "text/x-python",
   "name": "python",
   "nbconvert_exporter": "python",
   "pygments_lexer": "ipython3",
   "version": "3.10.9"
  }
 },
 "nbformat": 4,
 "nbformat_minor": 5
}
